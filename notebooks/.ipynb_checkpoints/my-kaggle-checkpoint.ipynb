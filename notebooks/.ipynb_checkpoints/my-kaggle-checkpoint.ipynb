{
 "cells": [
  {
   "cell_type": "code",
   "execution_count": 4,
   "metadata": {
    "marvin_cell": "acquisitor"
   },
   "outputs": [
    {
     "name": "stdout",
     "output_type": "stream",
     "text": [
      "   SepalLengthCm  SepalWidthCm  PetalLengthCm  PetalWidthCm      Species\n",
      "0            5.1           3.5            1.4           0.2  Iris-setosa\n",
      "1            4.9           3.0            1.4           0.2  Iris-setosa\n"
     ]
    }
   ],
   "source": [
    "import pandas as pd\n",
    "\n",
    "# Using MarvinData utility to download file\n",
    "from marvin_python_toolbox.common.data import MarvinData\n",
    "\n",
    "# getting the initial data set\n",
    "file_path = MarvinData.download_file(url=\"https://s3.amazonaws.com/marvin-engines-data/Iris.csv\")\n",
    "\n",
    "iris = pd.read_csv(file_path)\n",
    "\n",
    "iris.drop('Id', axis = 1, inplace=True)\n",
    "\n",
    "print(iris.head(2))\n",
    "\n",
    "marvin_initial_dataset = iris"
   ]
  },
  {
   "cell_type": "code",
   "execution_count": 8,
   "metadata": {
    "marvin_cell": "tpreparator",
    "scrolled": true
   },
   "outputs": [
    {
     "name": "stdout",
     "output_type": "stream",
     "text": [
      "(105, 5)\n",
      "(45, 5)\n"
     ]
    }
   ],
   "source": [
    "from sklearn.cross_validation import train_test_split #to split the dataset for training and testing\n",
    "\n",
    "train, test = train_test_split(marvin_initial_dataset, test_size = 0.3)# in this our main data is split into train and test\n",
    "\n",
    "# the attribute test_size=0.3 splits the data into 70% and 30% ratio. train=70% and test=30%\n",
    "print(train.shape)\n",
    "print(test.shape)\n",
    "\n",
    "train_X = train[['SepalLengthCm','SepalWidthCm','PetalLengthCm','PetalWidthCm']]# taking the training data features\n",
    "train_Y = train.Species# output of our training data\n",
    "\n",
    "test_X = test[['SepalLengthCm','SepalWidthCm','PetalLengthCm','PetalWidthCm']] # taking test data features\n",
    "test_Y = test.Species   #output value of test data\n",
    "\n",
    "marvin_dataset = {\n",
    "    \"train_X\": train_X,\n",
    "    \"train_Y\": train_Y,\n",
    "    \"test_X\": test_X,\n",
    "    \"test_Y\": test_Y,\n",
    "}"
   ]
  },
  {
   "cell_type": "code",
   "execution_count": 17,
   "metadata": {
    "marvin_cell": "trainer"
   },
   "outputs": [],
   "source": [
    "from sklearn import svm  #for Support Vector Machine (SVM) Algorithm\n",
    "\n",
    "model = svm.SVC() #select the algorithm\n",
    "model.fit(marvin_dataset[\"train_X\"],marvin_dataset[\"train_Y\"]) # we train the algorithm with the training data and the training output\n",
    "\n",
    "marvin_model = model"
   ]
  },
  {
   "cell_type": "code",
   "execution_count": 35,
   "metadata": {
    "marvin_cell": "evaluator"
   },
   "outputs": [
    {
     "name": "stdout",
     "output_type": "stream",
     "text": [
      "('The accuracy of the SVM is:', {'accuracy': 0.9777777777777777})\n"
     ]
    }
   ],
   "source": [
    "from sklearn import metrics #for checking the model accuracy\n",
    "\n",
    "prediction = marvin_model.predict(marvin_dataset[\"test_X\"]) #now we pass the testing data to the trained algorithm\n",
    "metrics = metrics.accuracy_score(prediction, marvin_dataset[\"test_Y\"])\n",
    "\n",
    "marvin_metrics = {\n",
    "    \"accuracy\" : float(metrics)\n",
    "}\n",
    "\n",
    "print('The accuracy of the SVM is:', metrics)#now we check the accuracy of the algorithm. \n"
   ]
  },
  {
   "cell_type": "code",
   "execution_count": 31,
   "metadata": {},
   "outputs": [],
   "source": [
    "message = [2.1, 3.0, 4.4, 5.2]"
   ]
  },
  {
   "cell_type": "code",
   "execution_count": 32,
   "metadata": {},
   "outputs": [],
   "source": [
    "input_message = message"
   ]
  },
  {
   "cell_type": "code",
   "execution_count": 34,
   "metadata": {
    "marvin_cell": "predictor"
   },
   "outputs": [
    {
     "name": "stderr",
     "output_type": "stream",
     "text": [
      "/home/ubuntu/.virtualenvs/iris-engine-env/local/lib/python2.7/site-packages/sklearn/utils/validation.py:395: DeprecationWarning: Passing 1d arrays as data is deprecated in 0.17 and will raise ValueError in 0.19. Reshape your data either using X.reshape(-1, 1) if your data has a single feature or X.reshape(1, -1) if it contains a single sample.\n",
      "  DeprecationWarning)\n"
     ]
    }
   ],
   "source": [
    "final_prediction = marvin_model.predict(input_message)[0]"
   ]
  }
 ],
 "metadata": {
  "kernelspec": {
   "display_name": "Python 2",
   "language": "python",
   "name": "python2"
  },
  "language_info": {
   "codemirror_mode": {
    "name": "ipython",
    "version": 2
   },
   "file_extension": ".py",
   "mimetype": "text/x-python",
   "name": "python",
   "nbconvert_exporter": "python",
   "pygments_lexer": "ipython2",
   "version": "2.7.12"
  }
 },
 "nbformat": 4,
 "nbformat_minor": 2
}
