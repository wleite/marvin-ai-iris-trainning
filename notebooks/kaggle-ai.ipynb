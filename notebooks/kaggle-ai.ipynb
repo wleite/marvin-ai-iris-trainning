{
 "cells": [
  {
   "cell_type": "markdown",
   "metadata": {
    "_cell_guid": "b7dbedec-9483-4b22-484d-b8a8e04c49ae",
    "_uuid": "8807ae46aec34ec427b81344d64a3c0d607b258a"
   },
   "source": [
    "### Hello Kagglers!!\n",
    "\n",
    "This is a very basic tutorial to Machine Learning for complete Beginners using the Iris Dataset. You can learn how to implement a machine learning to a given dataset by following this notebook. I have explained everything related to the implementation in detail . Hope you find it useful.\n",
    "\n",
    "For a more advanced notebook that covers some more detailed concepts, have a look at [this notebook](https://www.kaggle.com/ash316/ml-from-scratch-part-2/notebook)\n",
    "\n",
    "If this notebook to be useful, **Please Upvote!!!**\n",
    "\n"
   ]
  },
  {
   "cell_type": "code",
   "execution_count": 3,
   "metadata": {
    "_cell_guid": "c8b7047a-c84c-c0ee-054d-a0c30609cc43",
    "_execution_state": "idle",
    "_uuid": "43047631b7881a23c63a655f5214b2ebaff946fa"
   },
   "outputs": [],
   "source": [
    "import numpy as np # linear algebra\n",
    "import pandas as pd # data processing, CSV file I/O (e.g. pd.read_csv)\n",
    "import seaborn as sns\n",
    "import matplotlib.pyplot as plt"
   ]
  },
  {
   "cell_type": "code",
   "execution_count": 4,
   "metadata": {},
   "outputs": [
    {
     "name": "stderr",
     "output_type": "stream",
     "text": [
      "2018-08-23 00:53:19,048 - marvin_python_toolbox.common.data - INFO - Starting download of https://s3.amazonaws.com/marvin-engines-data/Iris.csv file with 5107 bytes ...\n",
      "Downloading file please wait...100% |###############| Time: 0:00:00  24.4 KiB/s\n"
     ]
    }
   ],
   "source": [
    "# Using MarvinData utility to download file\n",
    "from marvin_python_toolbox.common.data import MarvinData\n",
    "\n",
    "# getting the initial data set\n",
    "file_path = MarvinData.download_file(url=\"https://s3.amazonaws.com/marvin-engines-data/Iris.csv\")"
   ]
  },
  {
   "cell_type": "code",
   "execution_count": 5,
   "metadata": {
    "_cell_guid": "ced2723b-e83e-6aa0-4ffb-9ace2cc4a5e3",
    "_execution_state": "idle",
    "_uuid": "db8aed63638fcf4833c050541cc0fe5a0b756670"
   },
   "outputs": [],
   "source": [
    "iris = pd.read_csv(file_path) #load the dataset"
   ]
  },
  {
   "cell_type": "code",
   "execution_count": 6,
   "metadata": {
    "_cell_guid": "ca50ed92-15c7-f9f6-b371-f18393505167",
    "_execution_state": "idle",
    "_uuid": "9a89db0e5a9d3e5cd7cecf06e16dbf1b6f8d3542"
   },
   "outputs": [
    {
     "data": {
      "text/html": [
       "<div>\n",
       "<style>\n",
       "    .dataframe thead tr:only-child th {\n",
       "        text-align: right;\n",
       "    }\n",
       "\n",
       "    .dataframe thead th {\n",
       "        text-align: left;\n",
       "    }\n",
       "\n",
       "    .dataframe tbody tr th {\n",
       "        vertical-align: top;\n",
       "    }\n",
       "</style>\n",
       "<table border=\"1\" class=\"dataframe\">\n",
       "  <thead>\n",
       "    <tr style=\"text-align: right;\">\n",
       "      <th></th>\n",
       "      <th>Id</th>\n",
       "      <th>SepalLengthCm</th>\n",
       "      <th>SepalWidthCm</th>\n",
       "      <th>PetalLengthCm</th>\n",
       "      <th>PetalWidthCm</th>\n",
       "      <th>Species</th>\n",
       "    </tr>\n",
       "  </thead>\n",
       "  <tbody>\n",
       "    <tr>\n",
       "      <th>0</th>\n",
       "      <td>1</td>\n",
       "      <td>5.1</td>\n",
       "      <td>3.5</td>\n",
       "      <td>1.4</td>\n",
       "      <td>0.2</td>\n",
       "      <td>Iris-setosa</td>\n",
       "    </tr>\n",
       "    <tr>\n",
       "      <th>1</th>\n",
       "      <td>2</td>\n",
       "      <td>4.9</td>\n",
       "      <td>3.0</td>\n",
       "      <td>1.4</td>\n",
       "      <td>0.2</td>\n",
       "      <td>Iris-setosa</td>\n",
       "    </tr>\n",
       "  </tbody>\n",
       "</table>\n",
       "</div>"
      ],
      "text/plain": [
       "   Id  SepalLengthCm  SepalWidthCm  PetalLengthCm  PetalWidthCm      Species\n",
       "0   1            5.1           3.5            1.4           0.2  Iris-setosa\n",
       "1   2            4.9           3.0            1.4           0.2  Iris-setosa"
      ]
     },
     "execution_count": 6,
     "metadata": {},
     "output_type": "execute_result"
    }
   ],
   "source": [
    "iris.head(2) #show the first 2 rows from the dataset"
   ]
  },
  {
   "cell_type": "code",
   "execution_count": 7,
   "metadata": {
    "_cell_guid": "4f9370f1-0672-0d8c-4f21-c7eeb694042c",
    "_execution_state": "idle",
    "_uuid": "46f49d63be72b4eec75da299e355d6dbaa19f65b"
   },
   "outputs": [
    {
     "name": "stdout",
     "output_type": "stream",
     "text": [
      "<class 'pandas.core.frame.DataFrame'>\n",
      "RangeIndex: 150 entries, 0 to 149\n",
      "Data columns (total 6 columns):\n",
      "Id               150 non-null int64\n",
      "SepalLengthCm    150 non-null float64\n",
      "SepalWidthCm     150 non-null float64\n",
      "PetalLengthCm    150 non-null float64\n",
      "PetalWidthCm     150 non-null float64\n",
      "Species          150 non-null object\n",
      "dtypes: float64(4), int64(1), object(1)\n",
      "memory usage: 7.1+ KB\n"
     ]
    }
   ],
   "source": [
    "iris.info()  #checking if there is any inconsistency in the dataset\n",
    "#as we see there are no null values in the dataset, so the data can be processed"
   ]
  },
  {
   "cell_type": "markdown",
   "metadata": {
    "_cell_guid": "fe064d83-88de-20ee-9ec0-43e52fc49c03",
    "_uuid": "eaf309bd3956c549ca5c039a6c62151974ca9481"
   },
   "source": [
    "#### Removing the unneeded column"
   ]
  },
  {
   "cell_type": "code",
   "execution_count": 8,
   "metadata": {
    "_cell_guid": "af6dd1be-5c24-27f3-6319-eb6af2c65c27",
    "_execution_state": "idle",
    "_uuid": "c9b2172cc499bda6d56d2199b8d286217abbd677"
   },
   "outputs": [],
   "source": [
    "iris.drop('Id',axis=1,inplace=True) #dropping the Id column as it is unecessary, axis=1 specifies that it should be column wise, inplace =1 means the changes should be reflected into the dataframe"
   ]
  },
  {
   "cell_type": "markdown",
   "metadata": {
    "_cell_guid": "a2e19920-d24b-7551-10c4-e1088c8a4324",
    "_uuid": "f00690de3343002575e680a83ae395ef0060fe1f"
   },
   "source": [
    "## Some Exploratory Data Analysis With Iris"
   ]
  },
  {
   "cell_type": "code",
   "execution_count": 9,
   "metadata": {
    "_cell_guid": "09a16bf0-067b-8da0-3eed-2014dc8cfec7",
    "_execution_state": "idle",
    "_uuid": "c9fd2c2b0eb51ada3a4f57eb51023cb080a0d308"
   },
   "outputs": [
    {
     "data": {
      "image/png": "[encoded data removed]",
      "text/plain": [
       "<matplotlib.figure.Figure at 0x7fc3500b3850>"
      ]
     },
     "metadata": {},
     "output_type": "display_data"
    }
   ],
   "source": [
    "fig = iris[iris.Species=='Iris-setosa'].plot(kind='scatter',x='SepalLengthCm',y='SepalWidthCm',color='orange', label='Setosa')\n",
    "iris[iris.Species=='Iris-versicolor'].plot(kind='scatter',x='SepalLengthCm',y='SepalWidthCm',color='blue', label='versicolor',ax=fig)\n",
    "iris[iris.Species=='Iris-virginica'].plot(kind='scatter',x='SepalLengthCm',y='SepalWidthCm',color='green', label='virginica', ax=fig)\n",
    "fig.set_xlabel(\"Sepal Length\")\n",
    "fig.set_ylabel(\"Sepal Width\")\n",
    "fig.set_title(\"Sepal Length VS Width\")\n",
    "fig=plt.gcf()\n",
    "fig.set_size_inches(10,6)\n",
    "plt.show()"
   ]
  },
  {
   "cell_type": "markdown",
   "metadata": {
    "_cell_guid": "e853b9fa-a1db-cdc8-1f8f-0f5f2f2d1ab6",
    "_uuid": "d0793e117fd202f679b6ecb1239e0ab0a8cfd137"
   },
   "source": [
    "The above graph shows relationship between the sepal length and width. Now we will check relationship between the petal length and width."
   ]
  },
  {
   "cell_type": "code",
   "execution_count": 10,
   "metadata": {
    "_cell_guid": "ea5060b8-4067-cf46-99d6-a27be10a7e18",
    "_execution_state": "idle",
    "_uuid": "16a42e3a6615e48f7b8ed0a6dbb380de74dcd2c8"
   },
   "outputs": [
    {
     "data": {
      "image/png": "[encoded data removed]",
      "text/plain": [
       "<matplotlib.figure.Figure at 0x7fc34b6fda90>"
      ]
     },
     "metadata": {},
     "output_type": "display_data"
    }
   ],
   "source": [
    "fig = iris[iris.Species=='Iris-setosa'].plot.scatter(x='PetalLengthCm',y='PetalWidthCm',color='orange', label='Setosa')\n",
    "iris[iris.Species=='Iris-versicolor'].plot.scatter(x='PetalLengthCm',y='PetalWidthCm',color='blue', label='versicolor',ax=fig)\n",
    "iris[iris.Species=='Iris-virginica'].plot.scatter(x='PetalLengthCm',y='PetalWidthCm',color='green', label='virginica', ax=fig)\n",
    "fig.set_xlabel(\"Petal Length\")\n",
    "fig.set_ylabel(\"Petal Width\")\n",
    "fig.set_title(\" Petal Length VS Width\")\n",
    "fig=plt.gcf()\n",
    "fig.set_size_inches(10,6)\n",
    "plt.show()"
   ]
  },
  {
   "cell_type": "markdown",
   "metadata": {
    "_cell_guid": "3068e91a-2455-f7ae-b1d0-a2114b78ea62",
    "_uuid": "dd90c7e433f42fea8e5836c91959429710491347"
   },
   "source": [
    "As we can see that the Petal Features are giving a better cluster division compared to the Sepal features. This is an indication that the Petals can help in better and accurate Predictions over the Sepal. We will check that later."
   ]
  },
  {
   "cell_type": "markdown",
   "metadata": {
    "_cell_guid": "ac6bb577-9975-39d5-aa20-376e574e703c",
    "_uuid": "aaa439a16175b442a42e845060b7fe1bd2d246f0"
   },
   "source": [
    "### Now let us see how are the length and width are distributed"
   ]
  },
  {
   "cell_type": "code",
   "execution_count": 11,
   "metadata": {
    "_cell_guid": "d818068d-5110-c64e-ec6e-92bda44a9723",
    "_execution_state": "idle",
    "_uuid": "0ca23638e6e067ffd7501552f346674646e3e1d2"
   },
   "outputs": [
    {
     "data": {
      "image/png": "[encoded data removed]",
      "text/plain": [
       "<matplotlib.figure.Figure at 0x7fc3496c5850>"
      ]
     },
     "metadata": {},
     "output_type": "display_data"
    }
   ],
   "source": [
    "iris.hist(edgecolor='black', linewidth=1.2)\n",
    "fig=plt.gcf()\n",
    "fig.set_size_inches(12,6)\n",
    "plt.show()"
   ]
  },
  {
   "cell_type": "markdown",
   "metadata": {
    "_cell_guid": "cdb55848-d7eb-d66c-dec1-79cbbfba2826",
    "_uuid": "3e8d0f657f996be6f4020b1850148bade9fdc588"
   },
   "source": [
    "### Now let us see how the length and width vary according to the species"
   ]
  },
  {
   "cell_type": "code",
   "execution_count": 12,
   "metadata": {
    "_cell_guid": "a1d57f07-5c6b-4ab3-ad15-b8b5245c05b9",
    "_execution_state": "idle",
    "_uuid": "15e65581708a5b67ac8f0c1994fa08ef8158e799"
   },
   "outputs": [
    {
     "data": {
      "image/png": "[encoded data removed]",
      "text/plain": [
       "<matplotlib.figure.Figure at 0x7fc349206690>"
      ]
     },
     "metadata": {},
     "output_type": "display_data"
    }
   ],
   "source": [
    "plt.figure(figsize=(15,10))\n",
    "plt.subplot(2,2,1)\n",
    "sns.violinplot(x='Species',y='PetalLengthCm',data=iris)\n",
    "plt.subplot(2,2,2)\n",
    "sns.violinplot(x='Species',y='PetalWidthCm',data=iris)\n",
    "plt.subplot(2,2,3)\n",
    "sns.violinplot(x='Species',y='SepalLengthCm',data=iris)\n",
    "plt.subplot(2,2,4)\n",
    "sns.violinplot(x='Species',y='SepalWidthCm',data=iris)\n",
    "plt.show()"
   ]
  },
  {
   "cell_type": "markdown",
   "metadata": {
    "_cell_guid": "2497705a-9c08-5d8b-6ca0-0edc509e73b9",
    "_uuid": "0e907abebd6751fa3597fd6b08bb24eb13081443"
   },
   "source": [
    "The violinplot shows density of the length and width in the species. The thinner part denotes that there is less density whereas the fatter part conveys higher density"
   ]
  },
  {
   "cell_type": "markdown",
   "metadata": {
    "_cell_guid": "4df5f118-994c-4d7d-2fa1-b8a1ed1a82ec",
    "_uuid": "b45c7ca882bf32568268465f041282cfcd0e6fe9"
   },
   "source": [
    "### Now the given problem is a classification problem.. Thus we will be using the classification algorithms to build a model.\n",
    "**Classification**: samples belong to two or more classes and we want to learn from already labeled data how to predict the class of unlabeled data\n",
    "\n",
    "**Regression**: if the desired output consists of one or more continuous variables, then the task is called regression. An example of a regression problem would be the prediction of the length of a salmon as a function of its age and weight."
   ]
  },
  {
   "cell_type": "markdown",
   "metadata": {
    "_cell_guid": "b772ca1b-fd3c-d27a-b787-926c2df4e354",
    "_uuid": "a0436d5a5baa07027fdc10ad918d776e7fe948f4"
   },
   "source": [
    "Before we start, we need to clear some ML notations.\n",
    "\n",
    "**attributes**-->An attribute is a property of an instance that may be used to determine its classification. In the following dataset, the attributes are the petal and sepal length and width. It is also known as **Features**.\n",
    "\n",
    "**Target variable**, in the machine learning context is the variable that is or should be the output. Here the target variables are the 3 flower species."
   ]
  },
  {
   "cell_type": "code",
   "execution_count": 13,
   "metadata": {
    "_cell_guid": "c27e7e16-6083-5b53-cda4-c43cf4c79a67",
    "_execution_state": "idle",
    "_uuid": "2b652b2398f95bacb6286eac49694cd422a54e6a"
   },
   "outputs": [
    {
     "name": "stderr",
     "output_type": "stream",
     "text": [
      "/home/ubuntu/.virtualenvs/iris-engine-env/local/lib/python2.7/site-packages/sklearn/cross_validation.py:44: DeprecationWarning: This module was deprecated in version 0.18 in favor of the model_selection module into which all the refactored classes and functions are moved. Also note that the interface of the new CV iterators are different from that of this module. This module will be removed in 0.20.\n",
      "  \"This module will be removed in 0.20.\", DeprecationWarning)\n"
     ]
    }
   ],
   "source": [
    "# importing alll the necessary packages to use the various classification algorithms\n",
    "from sklearn.linear_model import LogisticRegression  # for Logistic Regression algorithm\n",
    "from sklearn.cross_validation import train_test_split #to split the dataset for training and testing\n",
    "from sklearn.neighbors import KNeighborsClassifier  # for K nearest neighbours\n",
    "from sklearn import svm  #for Support Vector Machine (SVM) Algorithm\n",
    "from sklearn import metrics #for checking the model accuracy\n",
    "from sklearn.tree import DecisionTreeClassifier #for using Decision Tree Algoithm"
   ]
  },
  {
   "cell_type": "code",
   "execution_count": 14,
   "metadata": {
    "_cell_guid": "d967de9a-df34-bc84-899b-28b8804f7d58",
    "_execution_state": "idle",
    "_uuid": "15457e7fa8ff19b86c2858c365f11fa289fca723"
   },
   "outputs": [
    {
     "data": {
      "text/plain": [
       "(150, 5)"
      ]
     },
     "execution_count": 14,
     "metadata": {},
     "output_type": "execute_result"
    }
   ],
   "source": [
    "iris.shape #get the shape of the dataset"
   ]
  },
  {
   "cell_type": "markdown",
   "metadata": {
    "_cell_guid": "21c81da1-f5f8-8d86-6c23-76928d0ec387",
    "_uuid": "a09827c482cacd56f2040afdb162d46270551512"
   },
   "source": [
    "Now, when we train any algorithm, the number of features and their correlation plays an important role. If there are features and many of the features are highly correlated, then training an algorithm with all the featues will reduce the accuracy. Thus features selection should be done carefully. This dataset has less featues but still we will see the correlation."
   ]
  },
  {
   "cell_type": "code",
   "execution_count": 15,
   "metadata": {
    "_cell_guid": "91f4a3b2-6e38-4d41-9ba0-52c7f43a581c",
    "_execution_state": "idle",
    "_uuid": "86e4d3c42eeec9d2df63d5f60c94e2c30b65ebd7"
   },
   "outputs": [
    {
     "data": {
      "image/png": "[encoded data removed]",
      "text/plain": [
       "<matplotlib.figure.Figure at 0x7fc3493028d0>"
      ]
     },
     "metadata": {},
     "output_type": "display_data"
    }
   ],
   "source": [
    "plt.figure(figsize=(7,4)) \n",
    "sns.heatmap(iris.corr(),annot=True,cmap='cubehelix_r') #draws  heatmap with input as the correlation matrix calculted by(iris.corr())\n",
    "plt.show()"
   ]
  },
  {
   "cell_type": "markdown",
   "metadata": {
    "_cell_guid": "45543c97-83ae-392c-183c-24d118985163",
    "_uuid": "a2456971023a8d78416ae87fd1b09173da1e357e"
   },
   "source": [
    "**Observation--->**\n",
    "\n",
    "The Sepal Width and Length are not correlated\n",
    "The Petal Width and Length are highly correlated\n",
    "\n",
    "We will use all the features for training the algorithm and check the accuracy.\n",
    "\n",
    "Then we will use 1 Petal Feature and 1 Sepal Feature to check the accuracy of the algorithm as we are using only 2 features that are not correlated. Thus we can have a variance in the dataset which may help in better accuracy. We will check it later."
   ]
  },
  {
   "cell_type": "markdown",
   "metadata": {
    "_cell_guid": "74afdd84-2b1f-b6e3-b9e2-6c076e44cb10",
    "_uuid": "362675378d1f8d7892597877aa9dbd1caa20c0ff"
   },
   "source": [
    "### Steps To Be followed When Applying an Algorithm\n",
    "\n",
    " 1. Split the dataset into training and testing dataset. The testing dataset is generally smaller than training one as it will help in training the model better.\n",
    " 2. Select any algorithm based on the problem (classification or regression) whatever you feel may be good.\n",
    " 3. Then pass the training dataset to the algorithm to train it. We use the **.fit()** method\n",
    " 4. Then pass the testing data to the trained algorithm to predict the outcome. We use the **.predict()** method.\n",
    " 5. We then check the accuracy by **passing the predicted outcome and the actual output** to the model."
   ]
  },
  {
   "cell_type": "markdown",
   "metadata": {
    "_cell_guid": "2de179a6-ea22-00ff-8756-63d3aef6bd2d",
    "_uuid": "ffa8b5a66eb4651f46672b7263774dbcf125ecbf"
   },
   "source": [
    "### Splitting The Data into Training And Testing Dataset"
   ]
  },
  {
   "cell_type": "code",
   "execution_count": 16,
   "metadata": {
    "_cell_guid": "a24c3ab9-8c7d-2a78-113f-d337c5c61f09",
    "_execution_state": "idle",
    "_uuid": "87bc90a957a8defb5e24b886b641fb0a9aa5fc42"
   },
   "outputs": [
    {
     "name": "stdout",
     "output_type": "stream",
     "text": [
      "(105, 5)\n",
      "(45, 5)\n"
     ]
    }
   ],
   "source": [
    "train, test = train_test_split(iris, test_size = 0.3)# in this our main data is split into train and test\n",
    "# the attribute test_size=0.3 splits the data into 70% and 30% ratio. train=70% and test=30%\n",
    "print(train.shape)\n",
    "print(test.shape)"
   ]
  },
  {
   "cell_type": "code",
   "execution_count": 17,
   "metadata": {
    "_cell_guid": "54dd7ded-5079-fc8c-065b-70bfbfb0b83a",
    "_execution_state": "idle",
    "_uuid": "7a64738b8be79ad6b0f4899e985d3ab5e475f9e1"
   },
   "outputs": [],
   "source": [
    "train_X = train[['SepalLengthCm','SepalWidthCm','PetalLengthCm','PetalWidthCm']]# taking the training data features\n",
    "train_y=train.Species# output of our training data\n",
    "test_X= test[['SepalLengthCm','SepalWidthCm','PetalLengthCm','PetalWidthCm']] # taking test data features\n",
    "test_y =test.Species   #output value of test data"
   ]
  },
  {
   "cell_type": "markdown",
   "metadata": {
    "_cell_guid": "c7d21e9f-8470-9aae-51ef-feea2cec6b1c",
    "_uuid": "0b18f7458fd76e93ed4a3932001f6f657cadb647"
   },
   "source": [
    "Lets check the Train and Test Dataset"
   ]
  },
  {
   "cell_type": "code",
   "execution_count": 18,
   "metadata": {
    "_cell_guid": "2cf23cff-74d0-b15e-87a9-5ed72f543380",
    "_execution_state": "idle",
    "_uuid": "8fa3e8f9f4ba0b27796008dd998c41670f1ffd95"
   },
   "outputs": [
    {
     "data": {
      "text/html": [
       "<div>\n",
       "<style>\n",
       "    .dataframe thead tr:only-child th {\n",
       "        text-align: right;\n",
       "    }\n",
       "\n",
       "    .dataframe thead th {\n",
       "        text-align: left;\n",
       "    }\n",
       "\n",
       "    .dataframe tbody tr th {\n",
       "        vertical-align: top;\n",
       "    }\n",
       "</style>\n",
       "<table border=\"1\" class=\"dataframe\">\n",
       "  <thead>\n",
       "    <tr style=\"text-align: right;\">\n",
       "      <th></th>\n",
       "      <th>SepalLengthCm</th>\n",
       "      <th>SepalWidthCm</th>\n",
       "      <th>PetalLengthCm</th>\n",
       "      <th>PetalWidthCm</th>\n",
       "    </tr>\n",
       "  </thead>\n",
       "  <tbody>\n",
       "    <tr>\n",
       "      <th>55</th>\n",
       "      <td>5.7</td>\n",
       "      <td>2.8</td>\n",
       "      <td>4.5</td>\n",
       "      <td>1.3</td>\n",
       "    </tr>\n",
       "    <tr>\n",
       "      <th>104</th>\n",
       "      <td>6.5</td>\n",
       "      <td>3.0</td>\n",
       "      <td>5.8</td>\n",
       "      <td>2.2</td>\n",
       "    </tr>\n",
       "  </tbody>\n",
       "</table>\n",
       "</div>"
      ],
      "text/plain": [
       "     SepalLengthCm  SepalWidthCm  PetalLengthCm  PetalWidthCm\n",
       "55             5.7           2.8            4.5           1.3\n",
       "104            6.5           3.0            5.8           2.2"
      ]
     },
     "execution_count": 18,
     "metadata": {},
     "output_type": "execute_result"
    }
   ],
   "source": [
    "train_X.head(2)"
   ]
  },
  {
   "cell_type": "code",
   "execution_count": 19,
   "metadata": {
    "_cell_guid": "ce373f86-18ae-095f-8629-5bb8307c1273",
    "_execution_state": "idle",
    "_uuid": "ad5d8e583245a888c9470ef155b7d69a5608d426"
   },
   "outputs": [
    {
     "data": {
      "text/html": [
       "<div>\n",
       "<style>\n",
       "    .dataframe thead tr:only-child th {\n",
       "        text-align: right;\n",
       "    }\n",
       "\n",
       "    .dataframe thead th {\n",
       "        text-align: left;\n",
       "    }\n",
       "\n",
       "    .dataframe tbody tr th {\n",
       "        vertical-align: top;\n",
       "    }\n",
       "</style>\n",
       "<table border=\"1\" class=\"dataframe\">\n",
       "  <thead>\n",
       "    <tr style=\"text-align: right;\">\n",
       "      <th></th>\n",
       "      <th>SepalLengthCm</th>\n",
       "      <th>SepalWidthCm</th>\n",
       "      <th>PetalLengthCm</th>\n",
       "      <th>PetalWidthCm</th>\n",
       "    </tr>\n",
       "  </thead>\n",
       "  <tbody>\n",
       "    <tr>\n",
       "      <th>90</th>\n",
       "      <td>5.5</td>\n",
       "      <td>2.6</td>\n",
       "      <td>4.4</td>\n",
       "      <td>1.2</td>\n",
       "    </tr>\n",
       "    <tr>\n",
       "      <th>57</th>\n",
       "      <td>4.9</td>\n",
       "      <td>2.4</td>\n",
       "      <td>3.3</td>\n",
       "      <td>1.0</td>\n",
       "    </tr>\n",
       "  </tbody>\n",
       "</table>\n",
       "</div>"
      ],
      "text/plain": [
       "    SepalLengthCm  SepalWidthCm  PetalLengthCm  PetalWidthCm\n",
       "90            5.5           2.6            4.4           1.2\n",
       "57            4.9           2.4            3.3           1.0"
      ]
     },
     "execution_count": 19,
     "metadata": {},
     "output_type": "execute_result"
    }
   ],
   "source": [
    "test_X.head(2)"
   ]
  },
  {
   "cell_type": "code",
   "execution_count": 20,
   "metadata": {
    "_cell_guid": "60f7b821-4335-e2e5-b868-3d6f850ea927",
    "_execution_state": "idle",
    "_uuid": "6e5039b56dec20594cdd457127d39c0009f5572a"
   },
   "outputs": [
    {
     "data": {
      "text/plain": [
       "55     Iris-versicolor\n",
       "104     Iris-virginica\n",
       "50     Iris-versicolor\n",
       "17         Iris-setosa\n",
       "100     Iris-virginica\n",
       "Name: Species, dtype: object"
      ]
     },
     "execution_count": 20,
     "metadata": {},
     "output_type": "execute_result"
    }
   ],
   "source": [
    "train_y.head()  ##output of the training data"
   ]
  },
  {
   "cell_type": "markdown",
   "metadata": {
    "_cell_guid": "82010322-d6f3-467d-f1da-4cb3fc82d0bd",
    "_uuid": "41536ca3ef126cf761c2b8aca8f02ffa407a5996"
   },
   "source": [
    "### Support Vector Machine (SVM)"
   ]
  },
  {
   "cell_type": "code",
   "execution_count": 21,
   "metadata": {
    "_cell_guid": "be869394-0f6d-f062-dd1f-8d2c68f06104",
    "_execution_state": "idle",
    "_uuid": "94ed6a0a8a1acc6c42e37db3e50ab6f9380e17f8"
   },
   "outputs": [
    {
     "name": "stdout",
     "output_type": "stream",
     "text": [
      "('The accuracy of the SVM is:', 1.0)\n"
     ]
    }
   ],
   "source": [
    "model = svm.SVC() #select the algorithm\n",
    "model.fit(train_X,train_y) # we train the algorithm with the training data and the training output\n",
    "prediction=model.predict(test_X) #now we pass the testing data to the trained algorithm\n",
    "print('The accuracy of the SVM is:',metrics.accuracy_score(prediction,test_y))#now we check the accuracy of the algorithm. \n",
    "#we pass the predicted output by the model and the actual output"
   ]
  },
  {
   "cell_type": "markdown",
   "metadata": {
    "_cell_guid": "78e50a4b-ea63-c546-a8c4-07f4e4084c27",
    "_uuid": "9e9fb51ffb0823fb9a7459ad0f164e52a800c15a"
   },
   "source": [
    "SVM is giving very good accuracy . We will continue to check the accuracy for different models.\n",
    "\n",
    "Now we will follow the same steps as above for training various machine learning algorithms."
   ]
  },
  {
   "cell_type": "markdown",
   "metadata": {
    "_cell_guid": "35d98035-f0ae-7d10-fe90-ec13865c5a14",
    "_uuid": "a2d76e51ba5e61a1a6f19675295f4405c2633eba"
   },
   "source": [
    "### Logistic Regression"
   ]
  },
  {
   "cell_type": "code",
   "execution_count": 22,
   "metadata": {
    "_cell_guid": "ca772378-d3c4-4c87-ada6-b9d50a383b01",
    "_execution_state": "idle",
    "_uuid": "2b53cac02465732a986be2463b3f3411ab043716"
   },
   "outputs": [
    {
     "name": "stdout",
     "output_type": "stream",
     "text": [
      "('The accuracy of the Logistic Regression is', 0.9555555555555556)\n"
     ]
    }
   ],
   "source": [
    "model = LogisticRegression()\n",
    "model.fit(train_X,train_y)\n",
    "prediction=model.predict(test_X)\n",
    "print('The accuracy of the Logistic Regression is',metrics.accuracy_score(prediction,test_y))"
   ]
  },
  {
   "cell_type": "markdown",
   "metadata": {
    "_cell_guid": "7dfab2de-ebb7-4864-675c-aafef45db7a1",
    "_uuid": "756183a2d33bfd269b75b11ce7980f7f22925004"
   },
   "source": [
    "### Decision Tree"
   ]
  },
  {
   "cell_type": "code",
   "execution_count": 23,
   "metadata": {
    "_cell_guid": "f918247c-a76b-4c58-5145-1fb0e8ab70b4",
    "_execution_state": "idle",
    "_uuid": "3c8158a18da7910b9ba8c3a5169a3009fb27c84f"
   },
   "outputs": [
    {
     "name": "stdout",
     "output_type": "stream",
     "text": [
      "('The accuracy of the Decision Tree is', 0.9555555555555556)\n"
     ]
    }
   ],
   "source": [
    "model=DecisionTreeClassifier()\n",
    "model.fit(train_X,train_y)\n",
    "prediction=model.predict(test_X)\n",
    "print('The accuracy of the Decision Tree is',metrics.accuracy_score(prediction,test_y))"
   ]
  },
  {
   "cell_type": "markdown",
   "metadata": {
    "_cell_guid": "3e4594d9-5fe6-0568-1fc6-e02975278305",
    "_uuid": "3410b37d9410b8d9f0ebd5c6509b3250ed7714c1"
   },
   "source": [
    "### K-Nearest Neighbours"
   ]
  },
  {
   "cell_type": "code",
   "execution_count": 24,
   "metadata": {
    "_cell_guid": "bcd55de7-cfab-c81d-25a8-1db8f0deee94",
    "_execution_state": "idle",
    "_uuid": "dda9e73ae95627994e68db9542d769b897d43bec"
   },
   "outputs": [
    {
     "name": "stdout",
     "output_type": "stream",
     "text": [
      "('The accuracy of the KNN is', 0.97777777777777775)\n"
     ]
    }
   ],
   "source": [
    "model=KNeighborsClassifier(n_neighbors=3) #this examines 3 neighbours for putting the new data into a class\n",
    "model.fit(train_X,train_y)\n",
    "prediction=model.predict(test_X)\n",
    "print('The accuracy of the KNN is',metrics.accuracy_score(prediction,test_y))"
   ]
  },
  {
   "cell_type": "markdown",
   "metadata": {
    "_cell_guid": "e6787513-11b0-5cdb-10ac-457292de9b55",
    "_uuid": "9cd754bcd0f4494014b69c4fe11d3b228b5eee3f"
   },
   "source": [
    "### Let's check the accuracy for various values of n for K-Nearest nerighbours"
   ]
  },
  {
   "cell_type": "code",
   "execution_count": 25,
   "metadata": {
    "_cell_guid": "2c79e403-480a-0620-dd84-01ca038c72bd",
    "_execution_state": "idle",
    "_uuid": "abe2f8b04c14ad0618c13edd1777e7a8c2985781"
   },
   "outputs": [
    {
     "data": {
      "image/png": "[encoded data removed]",
      "text/plain": [
       "<matplotlib.figure.Figure at 0x7fc349302ad0>"
      ]
     },
     "metadata": {},
     "output_type": "display_data"
    }
   ],
   "source": [
    "a_index=list(range(1,11))\n",
    "a=pd.Series()\n",
    "x=[1,2,3,4,5,6,7,8,9,10]\n",
    "for i in list(range(1,11)):\n",
    "    model=KNeighborsClassifier(n_neighbors=i) \n",
    "    model.fit(train_X,train_y)\n",
    "    prediction=model.predict(test_X)\n",
    "    a=a.append(pd.Series(metrics.accuracy_score(prediction,test_y)))\n",
    "plt.plot(a_index, a)\n",
    "plt.xticks(x)\n",
    "plt.show()"
   ]
  },
  {
   "cell_type": "markdown",
   "metadata": {
    "_cell_guid": "de478d66-f9c6-6382-4a89-05c159bf657f",
    "_uuid": "0f1e3fad4a5403e758e4a3766c7887c65c9ab24b"
   },
   "source": [
    "Above is the graph showing the accuracy for the KNN models using different values of n. "
   ]
  },
  {
   "cell_type": "markdown",
   "metadata": {
    "_cell_guid": "cd3deccf-1025-320b-a269-40a99c7dd3f5",
    "_uuid": "8ad86c41920a005f238e20d4a84585079d558d16"
   },
   "source": [
    "### We used all the features of iris in above models. Now we will use Petals and Sepals Seperately"
   ]
  },
  {
   "cell_type": "markdown",
   "metadata": {
    "_cell_guid": "74a20365-8410-1b88-5f76-522c73c39a09",
    "_uuid": "a5b27b547f5c0ad1ec8405aec1117e0e48180633"
   },
   "source": [
    "### Creating Petals And Sepals Training Data "
   ]
  },
  {
   "cell_type": "code",
   "execution_count": 24,
   "metadata": {
    "_cell_guid": "80dc70f3-ad29-fc83-27d7-f378a32f0a46",
    "_execution_state": "idle",
    "_uuid": "a5c6805e5ea06a4f1c9bf2b4879e609b4951780b"
   },
   "outputs": [],
   "source": [
    "petal=iris[['PetalLengthCm','PetalWidthCm','Species']]\n",
    "sepal=iris[['SepalLengthCm','SepalWidthCm','Species']]"
   ]
  },
  {
   "cell_type": "code",
   "execution_count": 25,
   "metadata": {
    "_cell_guid": "7048f50d-5ad5-3c48-3eaa-26a0f5bcb034",
    "_execution_state": "idle",
    "_uuid": "70b5ef63a17330a3d1f1d918831407bdf535e2bf"
   },
   "outputs": [],
   "source": [
    "train_p,test_p=train_test_split(petal,test_size=0.3,random_state=0)  #petals\n",
    "train_x_p=train_p[['PetalWidthCm','PetalLengthCm']]\n",
    "train_y_p=train_p.Species\n",
    "test_x_p=test_p[['PetalWidthCm','PetalLengthCm']]\n",
    "test_y_p=test_p.Species\n",
    "\n",
    "\n",
    "train_s,test_s=train_test_split(sepal,test_size=0.3,random_state=0)  #Sepal\n",
    "train_x_s=train_s[['SepalWidthCm','SepalLengthCm']]\n",
    "train_y_s=train_s.Species\n",
    "test_x_s=test_s[['SepalWidthCm','SepalLengthCm']]\n",
    "test_y_s=test_s.Species"
   ]
  },
  {
   "cell_type": "markdown",
   "metadata": {
    "_cell_guid": "c7bc7029-2397-93a9-e063-afb7c129af8d",
    "_uuid": "05ed84baa609e7379bcb84bdad50c60650b86e49"
   },
   "source": [
    "### SVM"
   ]
  },
  {
   "cell_type": "code",
   "execution_count": 26,
   "metadata": {
    "_cell_guid": "bf8b63a2-7f74-f2d3-3f42-fb480ae26139",
    "_execution_state": "idle",
    "_uuid": "2abd62b140e7918b900c05400372ff1b5f1b2e97"
   },
   "outputs": [
    {
     "name": "stdout",
     "output_type": "stream",
     "text": [
      "('The accuracy of the SVM using Petals is:', 0.97777777777777775)\n",
      "('The accuracy of the SVM using Sepal is:', 0.80000000000000004)\n"
     ]
    }
   ],
   "source": [
    "model=svm.SVC()\n",
    "model.fit(train_x_p,train_y_p) \n",
    "prediction=model.predict(test_x_p) \n",
    "print('The accuracy of the SVM using Petals is:',metrics.accuracy_score(prediction,test_y_p))\n",
    "\n",
    "model=svm.SVC()\n",
    "model.fit(train_x_s,train_y_s) \n",
    "prediction=model.predict(test_x_s) \n",
    "print('The accuracy of the SVM using Sepal is:',metrics.accuracy_score(prediction,test_y_s))"
   ]
  },
  {
   "cell_type": "markdown",
   "metadata": {
    "_cell_guid": "4fd9e81b-8aad-1e15-8b88-819112c17071",
    "_uuid": "1fea5c6c187d41fe71248597fff47e49621fd83d"
   },
   "source": [
    "### Logistic Regression"
   ]
  },
  {
   "cell_type": "code",
   "execution_count": 27,
   "metadata": {
    "_cell_guid": "8353f86a-d1fe-6f07-7eb5-4f651eba1197",
    "_execution_state": "idle",
    "_uuid": "f732c0dc0789acd023476ed80107c7a6f4ddeb71"
   },
   "outputs": [
    {
     "name": "stdout",
     "output_type": "stream",
     "text": [
      "('The accuracy of the Logistic Regression using Petals is:', 0.68888888888888888)\n",
      "('The accuracy of the Logistic Regression using Sepals is:', 0.64444444444444449)\n"
     ]
    }
   ],
   "source": [
    "model = LogisticRegression()\n",
    "model.fit(train_x_p,train_y_p) \n",
    "prediction=model.predict(test_x_p) \n",
    "print('The accuracy of the Logistic Regression using Petals is:',metrics.accuracy_score(prediction,test_y_p))\n",
    "\n",
    "model.fit(train_x_s,train_y_s) \n",
    "prediction=model.predict(test_x_s) \n",
    "print('The accuracy of the Logistic Regression using Sepals is:',metrics.accuracy_score(prediction,test_y_s))"
   ]
  },
  {
   "cell_type": "markdown",
   "metadata": {
    "_cell_guid": "d8905552-47ed-3654-6dcc-a9603fe2cd12",
    "_uuid": "8fff15cad2855cedd186d19af2e419c79a5e3e4f"
   },
   "source": [
    "### Decision Tree"
   ]
  },
  {
   "cell_type": "code",
   "execution_count": 28,
   "metadata": {
    "_cell_guid": "1383aeef-0009-c16c-3f2c-97d400de6282",
    "_execution_state": "idle",
    "_uuid": "973393361c06902445a5e8a2a6a1a3c3acdec967"
   },
   "outputs": [
    {
     "name": "stdout",
     "output_type": "stream",
     "text": [
      "('The accuracy of the Decision Tree using Petals is:', 0.9555555555555556)\n",
      "('The accuracy of the Decision Tree using Sepals is:', 0.64444444444444449)\n"
     ]
    }
   ],
   "source": [
    "model=DecisionTreeClassifier()\n",
    "model.fit(train_x_p,train_y_p) \n",
    "prediction=model.predict(test_x_p) \n",
    "print('The accuracy of the Decision Tree using Petals is:',metrics.accuracy_score(prediction,test_y_p))\n",
    "\n",
    "model.fit(train_x_s,train_y_s) \n",
    "prediction=model.predict(test_x_s) \n",
    "print('The accuracy of the Decision Tree using Sepals is:',metrics.accuracy_score(prediction,test_y_s))"
   ]
  },
  {
   "cell_type": "markdown",
   "metadata": {
    "_cell_guid": "0d1fcf97-a603-ef57-5085-fab9b931c186",
    "_uuid": "52cb931113963aa7790c83c8427f49e03f109a65"
   },
   "source": [
    "### K-Nearest Neighbours"
   ]
  },
  {
   "cell_type": "code",
   "execution_count": 29,
   "metadata": {
    "_cell_guid": "89fc030a-1c30-ee0d-7c62-7495fa476dba",
    "_execution_state": "idle",
    "_uuid": "122bd22d9a7e63f0e1f86be80a2d2dde82182536"
   },
   "outputs": [
    {
     "name": "stdout",
     "output_type": "stream",
     "text": [
      "('The accuracy of the KNN using Petals is:', 0.97777777777777775)\n",
      "('The accuracy of the KNN using Sepals is:', 0.73333333333333328)\n"
     ]
    }
   ],
   "source": [
    "model=KNeighborsClassifier(n_neighbors=3)\n",
    "model.fit(train_x_p,train_y_p) \n",
    "prediction=model.predict(test_x_p) \n",
    "print('The accuracy of the KNN using Petals is:',metrics.accuracy_score(prediction,test_y_p))\n",
    "\n",
    "model.fit(train_x_s,train_y_s) \n",
    "prediction=model.predict(test_x_s) \n",
    "print('The accuracy of the KNN using Sepals is:',metrics.accuracy_score(prediction,test_y_s))"
   ]
  },
  {
   "cell_type": "markdown",
   "metadata": {
    "_cell_guid": "752b273a-43f6-9905-c42b-0a3003ad204c",
    "_uuid": "453bb5a7b5ee35d4dcbac52b6ee717d61d578c7f"
   },
   "source": [
    "### Observations:\n",
    "\n",
    " - Using Petals over Sepal for training the data gives a much better accuracy.\n",
    " - This was expected as we saw in the heatmap above that the correlation between the Sepal Width and Length was very low whereas the correlation between Petal Width and Length was very high. "
   ]
  },
  {
   "cell_type": "markdown",
   "metadata": {
    "_cell_guid": "6e6e1e3a-07aa-201a-b959-1d3619103325",
    "_uuid": "0f45b63a88d023709700b04fd14605ae53c94550"
   },
   "source": [
    "Thus we have just implemented some of the common Machine Learning. Since the dataset is small with very few features, I didn't cover some concepts as they would be relevant when we have many features.\n",
    "\n",
    "I have compiled a notebook covering some advanced ML concepts using a larger dataset. Have a look at that tooo."
   ]
  },
  {
   "cell_type": "markdown",
   "metadata": {
    "_cell_guid": "66bef947-c001-01e6-3064-cec367662f19",
    "_execution_state": "idle",
    "_uuid": "f561aab5cae104858575057eb7f93e7e8abaa77e"
   },
   "source": [
    "I hope the notebook was useful to you to get started with Machine Learning.\n",
    "\n",
    "If  find this notebook, **Please Upvote**.\n",
    "\n",
    "Thank You!!"
   ]
  },
  {
   "cell_type": "code",
   "execution_count": null,
   "metadata": {
    "_cell_guid": "14bcdd2b-fc7c-42e2-88c7-ed5d221ecbef",
    "_execution_state": "idle",
    "_uuid": "41c25d25019131c90859443d37b93d8fbb0fb33f"
   },
   "outputs": [],
   "source": []
  }
 ],
 "metadata": {
  "_change_revision": 0,
  "_is_fork": false,
  "kernelspec": {
   "display_name": "Python 2",
   "language": "python",
   "name": "python2"
  },
  "language_info": {
   "codemirror_mode": {
    "name": "ipython",
    "version": 2
   },
   "file_extension": ".py",
   "mimetype": "text/x-python",
   "name": "python",
   "nbconvert_exporter": "python",
   "pygments_lexer": "ipython2",
   "version": "2.7.12"
  }
 },
 "nbformat": 4,
 "nbformat_minor": 1
}
